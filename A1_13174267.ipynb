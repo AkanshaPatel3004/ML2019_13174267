{
  "nbformat": 4,
  "nbformat_minor": 0,
  "metadata": {
    "colab": {
      "name": "A1_13174267.ipynb",
      "version": "0.3.2",
      "provenance": [],
      "collapsed_sections": [],
      "include_colab_link": true
    },
    "kernelspec": {
      "name": "python3",
      "display_name": "Python 3"
    }
  },
  "cells": [
    {
      "cell_type": "markdown",
      "metadata": {
        "id": "view-in-github",
        "colab_type": "text"
      },
      "source": [
        "<a href=\"https://colab.research.google.com/github/AkanshaPatel3004/ML2019_13174267/blob/master/A1_13174267.ipynb\" target=\"_parent\"><img src=\"https://colab.research.google.com/assets/colab-badge.svg\" alt=\"Open In Colab\"/></a>"
      ]
    },
    {
      "cell_type": "code",
      "metadata": {
        "id": "AzYcaCsfVvPj",
        "colab_type": "code",
        "colab": {}
      },
      "source": [
        ""
      ],
      "execution_count": 0,
      "outputs": []
    },
    {
      "cell_type": "markdown",
      "metadata": {
        "id": "eDd6a2jvVv41",
        "colab_type": "text"
      },
      "source": [
        "# Assignment 1\n",
        "\n",
        "# General Adversarial Nets\n",
        "\n",
        "## Submitted by: Akansha Patel (13174267)\n",
        "\n",
        "### Available at : https://github.com/AkanshaPatel3004/ML2019_13174267/blob/master/A1_13174267.ipynb\n",
        "\n",
        "# Introduction:\n",
        "\n",
        "Generative Adversarial Networks is basically a class in AI frameworks which creates new information of data with alike set of training data. It consists of data models of two sets – generative model which amalgamates the prepared information and discriminative system that assesses the generative model. It is fundamentally the game challenge for two neural systems. The generative prepared (training) data targets expanding the mistake pace of the discriminative system by tricking it to incorporate the information that are the piece of genuine distribution of data. Commonly the generative model is planted with the arbitrary information that is examined from the practical space. The discriminator assesses the applicants amalgamated by the model called generative model. Backpropagation is used in both systems to such an extent that the generator improves the unions and the discriminator turns out to be increasingly talented in submitting the mistake.\n",
        "\n",
        "# Content:\n",
        "\n",
        "In this paper, the idea of Generative Adversarial Networks is suggested as a model that could outperform the generative models at the point the paper was issued. Generative models endeavour to delineate real appropriation of the prepared data so as to make new data elements. This comes in contrary to discriminative models, which rather attempt to discover an aligning from x to y with the goal of expectation. By studying data distribution over adversarial learning, General Adversarial Networks can generate data points. It is the place where the discriminative model is been challenged by the generative model where generative model is trained in such a way that it guesses that a sample which is given is from definite distribution of data or was falsely produced by the model called generative model. During training the objective of generative model is to cut down the opportunity of the discriminative model where it makes a right guess as near half as could be expected under the circumstances, so, all in all the fake data elements are indistinguishable to the definite data elements. \n",
        "\n",
        "\n",
        "Generative Adversarial Networks point out numerous issues with the current generative model, the most prominent problem is the intractability of some possible calculations which then would require the utilization of less precise approximations of Markov chains. This issue which discussed is actually evaded in General Adversarial Networks because no presumptions about data distribution are formed and instead of that model learns through the contest which is between discriminative and generative model. If both discriminative and generative model utilizes MLPs (i.e. multi-layer perceptrons), then there is an advantage for general Adversarial Networks to utilize a considerable lot of highlights of MLPs, for example, dropout which hinders the model called discriminative from outfitting, and backpropagation which prepares or trains discriminative model as well as generative model.\n",
        "\n",
        "\n",
        "# Innovation:\n",
        "\n",
        "The paper predominately contains several calculations to create generative models which can defeat constraints of past generative model. For instance, Markov chains required for examining or sampling. Required estimation in genuine computation of feasible distribution due to its intelligent conduct. This paper gives the essential basis of future developments that could actualize in likewise field and furthermore there are such a significant number of investigations which can be generated with the help of General Adversarial Networks. Deep fakes is an example for the same. \n",
        "\n",
        "This paper has shown multiple reasons that have brought innovation in terms of GANs. By starting with the main point, there are several algorithms in this paper to expand generative models which have capability to conquer limitations of other generative models. Undirected and Directed graphical models are previous models where probability distribution is difficult to calculate and for the most part this model depends on algorithm that computes the appraisal probability of set of data, which may them postpone the nature of preparing set of data given by model called genitive model.  As such there is no compelling reason in General Adversarial Networks to perform feasibility of preparing data rather than that discriminative model is used as preparing/training model by this model. Conventional generative models are additionally relied upon Markov chains tests of preparing data. Using the procedure called forward propagation, General Adversarial Network in any case decreases the needed calculational power for inspecting. Neural system is likewise one of preferred position of General Adversarial Networks in which data inputted go through prepared system, hence, the noise which is produced will straightforwardly change into output. These focal points make General Adversarial Networks progressively imaginative and versatile.  \n",
        "\n",
        "# Technical Quality:\n",
        "\n",
        "This new system includes the understanding of hypothetical and reasonable trials demonstrating the information dispersion with enough limit in a non-parametric point of confinement. In functional attempts, it is actualized utilizing the iterative methodology by enhancing the circulation system of n steps and advancing producing information system to one stage. This outcomes in keeping up the ideal arrangement between the distributive network and generative system. Procedures mentioned in this paper are cited nicely with various axioms and functional analysis. The paper unmistakably expresses the quantity of points of interest of this strategy that exceeds the impediments. The main hindrance is that the generative utilitarian space ought to be nicely harmonised with the distributive system and make sure that it is not prepared a lot without refreshing the discriminative space to keep away from the repetition of information. Markov chain is the biggest advantage, while training assumption is isn't required, just backpropagation is utilized, and furthermore wide assortments of capacities can be incorporated within the model.\n",
        "\n",
        "There are numerous factual points of interests too that are actually designed to help this hypothesis which acknowledges that the Generative systems benefited the adversarial networks have the benefit of generator systems by not directly refurbished with the samples of data, rather utilizes the inclination from backpropagation utilised for discriminator. Another primary advantage is that very acute and sharp pictures are illustrated using adversarial networks, while the Markov chains strategy needs the dispersion to be blurry for the fact to get a proper output chain is ought to be missed with the modes.\n",
        "\n",
        "# Application and X-Factor:\n",
        "\n",
        "The general data mentioned in the paper is encouraging and energizing and it drove me to comprehend the distinction between different networks and adversarial network for the modelling of data. To execute an imaginary augmentation of the deterministic Boltzmann machines a system can be utilized to do so. This approach is appropriate for the application domain, and likewise for other application area this approach can be utilized like Markov Chain Monte Carlo, confined and deep Boltzmann machines, Deep belief networks, and noise contrastive estimation. This framework can be used to generate conditional generative model, learned approximate inference algorithm, semi-supervised learning features from discriminator network or inference networks which can improve the performance of the classifiers when there is an availability of limited labelled data, efficiency improvements of the training which could be accelerated dramatically by producing better methods for coordinating discriminative and generative networks and also for the data distribution to samples from training data. The study to automate the synchronization of the discriminator and generator, which can normalize the redundancy in data should be considered in future work. The efficiency of the network should also be maintained simultaneously, which is a critical factor in data modelling. This framework is impressive, and it may spark a discussion in the tutorial as there are many theorems and algorithms used to support this technique. \n",
        "\n",
        "# Presentation:\n",
        "\n",
        "This paper is displayed in an exclusive expectational quality. Abstract of the paper and presentation gives a clear goal about the subject depicted in the paper. Main gist of this paper contains heaps of accurate data with mathematical calculations and realities about the model called General Adversarial Networks. The foundation of the calculations, tests, theorems was descriptive to such an extent that the theory stands all around recognized and very much translated. The creator joined a wide range of undirected and directed graphical models to depict the General Adversarial Networks definitively. The profundity of each and every model was intriguing, and the association carried between them and General Adversarial Networks were quick to such an extent that the progression of the work was effectively comprehended.\n",
        "\n",
        "# References:\n",
        "\n",
        "\n",
        "*   Goodfellow, I., Pouget-Abadie, J., Mirza, M., Xu, B., Warde-Farley, D., Ozair, S., Courville, A. and Bengio, Y., 2014. Generative adversarial nets. In Advances in neural information processing systems (pp. 2672-2680).\n",
        "\n",
        "\n"
      ]
    }
  ]
}